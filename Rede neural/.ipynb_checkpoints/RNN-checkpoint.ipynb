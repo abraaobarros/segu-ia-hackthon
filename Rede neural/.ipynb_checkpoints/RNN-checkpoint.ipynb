{
 "cells": [
  {
   "cell_type": "code",
   "execution_count": 1,
   "metadata": {
    "collapsed": false
   },
   "outputs": [],
   "source": [
    "# Recurrent Neural Network\n",
    "\n",
    "\n",
    "%matplotlib inline\n",
    "# Part 1 - Data Preprocessing\n",
    "\n",
    "# Importing the libraries\n",
    "import numpy as np\n",
    "import matplotlib.pyplot as plt\n",
    "import pandas as pd\n",
    "\n",
    "# Importing the training set\n",
    "dataset_train = pd.read_csv('Baser.csv', sep=\";\")\n",
    "training_set = dataset_train.iloc[:, 5:6].values"
   ]
  },
  {
   "cell_type": "code",
   "execution_count": null,
   "metadata": {
    "collapsed": false
   },
   "outputs": [],
   "source": []
  },
  {
   "cell_type": "code",
   "execution_count": 2,
   "metadata": {
    "collapsed": false
   },
   "outputs": [],
   "source": [
    "# Feature Scaling\n",
    "from sklearn.preprocessing import MinMaxScaler\n",
    "sc = MinMaxScaler(feature_range = (0, 1))\n",
    "training_set_scaled = sc.fit_transform(training_set)"
   ]
  },
  {
   "cell_type": "code",
   "execution_count": 3,
   "metadata": {
    "collapsed": false
   },
   "outputs": [],
   "source": [
    "\n",
    "# Creating a data structure with 60 timesteps and 1 output\n",
    "X_train = []\n",
    "y_train = []\n",
    "for i in range(60, 500):\n",
    "    X_train.append(training_set_scaled[i-60:i, 0])\n",
    "    y_train.append(training_set_scaled[i, 0])\n",
    "X_train, y_train = np.array(X_train), np.array(y_train)\n",
    "\n",
    "# Reshaping\n",
    "X_train = np.reshape(X_train, (X_train.shape[0], X_train.shape[1], 1))"
   ]
  },
  {
   "cell_type": "code",
   "execution_count": null,
   "metadata": {
    "collapsed": false
   },
   "outputs": [],
   "source": []
  },
  {
   "cell_type": "code",
   "execution_count": 5,
   "metadata": {
    "collapsed": false
   },
   "outputs": [
    {
     "name": "stderr",
     "output_type": "stream",
     "text": [
      "Using TensorFlow backend.\n"
     ]
    }
   ],
   "source": [
    "\n",
    "from keras.models import Sequential\n",
    "from keras.layers import Dense\n",
    "from keras.layers import LSTM\n",
    "from keras.layers import Dropout\n",
    "\n"
   ]
  },
  {
   "cell_type": "code",
   "execution_count": 6,
   "metadata": {
    "collapsed": false
   },
   "outputs": [
    {
     "name": "stdout",
     "output_type": "stream",
     "text": [
      "Epoch 1/10\n",
      "440/440 [==============================] - 6s - loss: 0.0918     \n",
      "Epoch 2/10\n",
      "440/440 [==============================] - 6s - loss: 0.0355     \n",
      "Epoch 3/10\n",
      "440/440 [==============================] - 6s - loss: 0.0330     \n",
      "Epoch 4/10\n",
      "440/440 [==============================] - 6s - loss: 0.0320     \n",
      "Epoch 5/10\n",
      "440/440 [==============================] - 6s - loss: 0.0316     \n",
      "Epoch 6/10\n",
      "440/440 [==============================] - 6s - loss: 0.0330     \n",
      "Epoch 7/10\n",
      "440/440 [==============================] - 6s - loss: 0.0324     \n",
      "Epoch 8/10\n",
      "440/440 [==============================] - 6s - loss: 0.0311     \n",
      "Epoch 9/10\n",
      "440/440 [==============================] - 6s - loss: 0.0309     \n",
      "Epoch 10/10\n",
      "440/440 [==============================] - 6s - loss: 0.0306     \n"
     ]
    },
    {
     "data": {
      "text/plain": [
       "<keras.callbacks.History at 0x123973a50>"
      ]
     },
     "execution_count": 6,
     "metadata": {},
     "output_type": "execute_result"
    }
   ],
   "source": [
    "\n",
    "\n",
    "regressor = Sequential()\n",
    "\n",
    "droupout = 0.2\n",
    "layers = 100\n",
    "epochs = 10\n",
    "\n",
    "r_sequences = True\n",
    "\n",
    "regressor.add(LSTM(units = layers, return_sequences = r_sequences, input_shape = (X_train.shape[1], 1)))\n",
    "regressor.add(Dropout(droupout))\n",
    "\n",
    "\n",
    "regressor.add(LSTM(units = layers, return_sequences = r_sequences))\n",
    "regressor.add(Dropout(droupout))\n",
    "\n",
    "\n",
    "regressor.add(LSTM(units = layers, return_sequences = r_sequences))\n",
    "regressor.add(Dropout(droupout))\n",
    "\n",
    "regressor.add(LSTM(units = layers))\n",
    "regressor.add(Dropout(droupout))\n",
    "\n",
    "regressor.add(Dense(units = 1))\n",
    "\n",
    "regressor.compile(optimizer = 'adam', loss = 'mean_squared_error')\n",
    "\n",
    "\n",
    "\n",
    "regressor.fit(X_train, y_train, epochs = epochs, batch_size = 32)"
   ]
  },
  {
   "cell_type": "code",
   "execution_count": null,
   "metadata": {
    "collapsed": false
   },
   "outputs": [],
   "source": []
  },
  {
   "cell_type": "code",
   "execution_count": 9,
   "metadata": {
    "collapsed": false
   },
   "outputs": [
    {
     "data": {
      "image/png": "[encoded data removed]",
      "text/plain": [
       "<matplotlib.figure.Figure at 0x12261cc50>"
      ]
     },
     "metadata": {},
     "output_type": "display_data"
    }
   ],
   "source": [
    "\n",
    "dataset_test = pd.read_csv('Baser.csv',sep=\";\")\n",
    "real_tarifa = dataset_test.iloc[:, 5:6].values\n",
    "\n",
    "\n",
    "dataset_total = pd.concat((dataset_train['Tarifa'], dataset_test['Tarifa']), axis = 0)\n",
    "inputs = dataset_total[len(dataset_total) - len(dataset_test) - 60:].values\n",
    "inputs = inputs.reshape(-1,1)\n",
    "inputs = sc.transform(inputs)\n",
    "X_test = []\n",
    "for i in range(60, 500):\n",
    "    X_test.append(inputs[i-60:i, 0])\n",
    "X_test = np.array(X_test)\n",
    "X_test = np.reshape(X_test, (X_test.shape[0], X_test.shape[1], 1))\n",
    "predicted_tx = regressor.predict(X_test)\n",
    "predicted_tx = sc.inverse_transform(predicted_tx)\n",
    "\n",
    "plt.plot(real_tarifa, color = 'red', label = 'Risco real')\n",
    "plt.plot(predicted_tx, color = 'blue', label = 'Predicao')\n",
    "plt.title('Predicao')\n",
    "plt.xlabel('Time')\n",
    "plt.ylabel('Tarifa')\n",
    "plt.legend()\n",
    "plt.show()"
   ]
  },
  {
   "cell_type": "code",
   "execution_count": null,
   "metadata": {
    "collapsed": true
   },
   "outputs": [],
   "source": []
  },
  {
   "cell_type": "code",
   "execution_count": null,
   "metadata": {
    "collapsed": true
   },
   "outputs": [],
   "source": []
  }
 ],
 "metadata": {
  "kernelspec": {
   "display_name": "Python 2",
   "language": "python",
   "name": "python2"
  },
  "language_info": {
   "codemirror_mode": {
    "name": "ipython",
    "version": 2
   },
   "file_extension": ".py",
   "mimetype": "text/x-python",
   "name": "python",
   "nbconvert_exporter": "python",
   "pygments_lexer": "ipython2",
   "version": "2.7.14"
  }
 },
 "nbformat": 4,
 "nbformat_minor": 0
}
